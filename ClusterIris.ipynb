{
  "nbformat": 4,
  "nbformat_minor": 0,
  "metadata": {
    "colab": {
      "name": "ClusterIris.ipynb",
      "provenance": [],
      "authorship_tag": "ABX9TyNrb3vMYqrwLqjbjPXxaOez",
      "include_colab_link": true
    },
    "kernelspec": {
      "name": "python3",
      "display_name": "Python 3"
    },
    "language_info": {
      "name": "python"
    }
  },
  "cells": [
    {
      "cell_type": "markdown",
      "metadata": {
        "id": "view-in-github",
        "colab_type": "text"
      },
      "source": [
        "<a href=\"https://colab.research.google.com/github/Th4l3s-pr0g/estudo-IA-CC/blob/main/ClusterIris.ipynb\" target=\"_parent\"><img src=\"https://colab.research.google.com/assets/colab-badge.svg\" alt=\"Open In Colab\"/></a>"
      ]
    },
    {
      "cell_type": "markdown",
      "source": [
        "Como fizemos nos exercícios anteriores, vamos iniciar importando os dados de Iris."
      ],
      "metadata": {
        "id": "oRaybHMf6cSC"
      }
    },
    {
      "cell_type": "code",
      "source": [
        "import pandas as pd\n",
        "nomeColunas = [\"alturaSepala\", \"larguraSepala\", \"alturaPetala\", \"larguraPetala\", \"classe\"]\n",
        "dataFrame = pd.read_csv(\"/content/iris.data\", names = nomeColunas)\n",
        "print(\"Quantidade de linhas:\", len(dataFrame))\n",
        "print(\"Quantidaed de colunas:\", len(dataFrame.columns))"
      ],
      "metadata": {
        "colab": {
          "base_uri": "https://localhost:8080/"
        },
        "id": "RzsnP7H_6vTJ",
        "outputId": "f9b03202-c86c-4e74-8830-f092b46cb8b2"
      },
      "execution_count": null,
      "outputs": [
        {
          "output_type": "stream",
          "name": "stdout",
          "text": [
            "Quantidade de linhas: 150\n",
            "Quantidaed de colunas: 5\n"
          ]
        }
      ]
    },
    {
      "cell_type": "markdown",
      "source": [
        "Uma vez que os dados foram importados, vamos fazer uma análise exploratória."
      ],
      "metadata": {
        "id": "nkBdBlNZ7wWH"
      }
    },
    {
      "cell_type": "code",
      "source": [
        "dataFrame.tail()"
      ],
      "metadata": {
        "colab": {
          "base_uri": "https://localhost:8080/",
          "height": 206
        },
        "id": "vjrziRdl775W",
        "outputId": "0fb27bc7-0bd0-45fd-9d66-14edeeb851ba"
      },
      "execution_count": null,
      "outputs": [
        {
          "output_type": "execute_result",
          "data": {
            "text/plain": [
              "     alturaSepala  larguraSepala  alturaPetala  larguraPetala          classe\n",
              "145           6.7            3.0           5.2            2.3  Iris-virginica\n",
              "146           6.3            2.5           5.0            1.9  Iris-virginica\n",
              "147           6.5            3.0           5.2            2.0  Iris-virginica\n",
              "148           6.2            3.4           5.4            2.3  Iris-virginica\n",
              "149           5.9            3.0           5.1            1.8  Iris-virginica"
            ],
            "text/html": [
              "\n",
              "  <div id=\"df-504f8e8a-efc9-4929-97ec-9c17e1be3f70\">\n",
              "    <div class=\"colab-df-container\">\n",
              "      <div>\n",
              "<style scoped>\n",
              "    .dataframe tbody tr th:only-of-type {\n",
              "        vertical-align: middle;\n",
              "    }\n",
              "\n",
              "    .dataframe tbody tr th {\n",
              "        vertical-align: top;\n",
              "    }\n",
              "\n",
              "    .dataframe thead th {\n",
              "        text-align: right;\n",
              "    }\n",
              "</style>\n",
              "<table border=\"1\" class=\"dataframe\">\n",
              "  <thead>\n",
              "    <tr style=\"text-align: right;\">\n",
              "      <th></th>\n",
              "      <th>alturaSepala</th>\n",
              "      <th>larguraSepala</th>\n",
              "      <th>alturaPetala</th>\n",
              "      <th>larguraPetala</th>\n",
              "      <th>classe</th>\n",
              "    </tr>\n",
              "  </thead>\n",
              "  <tbody>\n",
              "    <tr>\n",
              "      <th>145</th>\n",
              "      <td>6.7</td>\n",
              "      <td>3.0</td>\n",
              "      <td>5.2</td>\n",
              "      <td>2.3</td>\n",
              "      <td>Iris-virginica</td>\n",
              "    </tr>\n",
              "    <tr>\n",
              "      <th>146</th>\n",
              "      <td>6.3</td>\n",
              "      <td>2.5</td>\n",
              "      <td>5.0</td>\n",
              "      <td>1.9</td>\n",
              "      <td>Iris-virginica</td>\n",
              "    </tr>\n",
              "    <tr>\n",
              "      <th>147</th>\n",
              "      <td>6.5</td>\n",
              "      <td>3.0</td>\n",
              "      <td>5.2</td>\n",
              "      <td>2.0</td>\n",
              "      <td>Iris-virginica</td>\n",
              "    </tr>\n",
              "    <tr>\n",
              "      <th>148</th>\n",
              "      <td>6.2</td>\n",
              "      <td>3.4</td>\n",
              "      <td>5.4</td>\n",
              "      <td>2.3</td>\n",
              "      <td>Iris-virginica</td>\n",
              "    </tr>\n",
              "    <tr>\n",
              "      <th>149</th>\n",
              "      <td>5.9</td>\n",
              "      <td>3.0</td>\n",
              "      <td>5.1</td>\n",
              "      <td>1.8</td>\n",
              "      <td>Iris-virginica</td>\n",
              "    </tr>\n",
              "  </tbody>\n",
              "</table>\n",
              "</div>\n",
              "      <button class=\"colab-df-convert\" onclick=\"convertToInteractive('df-504f8e8a-efc9-4929-97ec-9c17e1be3f70')\"\n",
              "              title=\"Convert this dataframe to an interactive table.\"\n",
              "              style=\"display:none;\">\n",
              "        \n",
              "  <svg xmlns=\"http://www.w3.org/2000/svg\" height=\"24px\"viewBox=\"0 0 24 24\"\n",
              "       width=\"24px\">\n",
              "    <path d=\"M0 0h24v24H0V0z\" fill=\"none\"/>\n",
              "    <path d=\"M18.56 5.44l.94 2.06.94-2.06 2.06-.94-2.06-.94-.94-2.06-.94 2.06-2.06.94zm-11 1L8.5 8.5l.94-2.06 2.06-.94-2.06-.94L8.5 2.5l-.94 2.06-2.06.94zm10 10l.94 2.06.94-2.06 2.06-.94-2.06-.94-.94-2.06-.94 2.06-2.06.94z\"/><path d=\"M17.41 7.96l-1.37-1.37c-.4-.4-.92-.59-1.43-.59-.52 0-1.04.2-1.43.59L10.3 9.45l-7.72 7.72c-.78.78-.78 2.05 0 2.83L4 21.41c.39.39.9.59 1.41.59.51 0 1.02-.2 1.41-.59l7.78-7.78 2.81-2.81c.8-.78.8-2.07 0-2.86zM5.41 20L4 18.59l7.72-7.72 1.47 1.35L5.41 20z\"/>\n",
              "  </svg>\n",
              "      </button>\n",
              "      \n",
              "  <style>\n",
              "    .colab-df-container {\n",
              "      display:flex;\n",
              "      flex-wrap:wrap;\n",
              "      gap: 12px;\n",
              "    }\n",
              "\n",
              "    .colab-df-convert {\n",
              "      background-color: #E8F0FE;\n",
              "      border: none;\n",
              "      border-radius: 50%;\n",
              "      cursor: pointer;\n",
              "      display: none;\n",
              "      fill: #1967D2;\n",
              "      height: 32px;\n",
              "      padding: 0 0 0 0;\n",
              "      width: 32px;\n",
              "    }\n",
              "\n",
              "    .colab-df-convert:hover {\n",
              "      background-color: #E2EBFA;\n",
              "      box-shadow: 0px 1px 2px rgba(60, 64, 67, 0.3), 0px 1px 3px 1px rgba(60, 64, 67, 0.15);\n",
              "      fill: #174EA6;\n",
              "    }\n",
              "\n",
              "    [theme=dark] .colab-df-convert {\n",
              "      background-color: #3B4455;\n",
              "      fill: #D2E3FC;\n",
              "    }\n",
              "\n",
              "    [theme=dark] .colab-df-convert:hover {\n",
              "      background-color: #434B5C;\n",
              "      box-shadow: 0px 1px 3px 1px rgba(0, 0, 0, 0.15);\n",
              "      filter: drop-shadow(0px 1px 2px rgba(0, 0, 0, 0.3));\n",
              "      fill: #FFFFFF;\n",
              "    }\n",
              "  </style>\n",
              "\n",
              "      <script>\n",
              "        const buttonEl =\n",
              "          document.querySelector('#df-504f8e8a-efc9-4929-97ec-9c17e1be3f70 button.colab-df-convert');\n",
              "        buttonEl.style.display =\n",
              "          google.colab.kernel.accessAllowed ? 'block' : 'none';\n",
              "\n",
              "        async function convertToInteractive(key) {\n",
              "          const element = document.querySelector('#df-504f8e8a-efc9-4929-97ec-9c17e1be3f70');\n",
              "          const dataTable =\n",
              "            await google.colab.kernel.invokeFunction('convertToInteractive',\n",
              "                                                     [key], {});\n",
              "          if (!dataTable) return;\n",
              "\n",
              "          const docLinkHtml = 'Like what you see? Visit the ' +\n",
              "            '<a target=\"_blank\" href=https://colab.research.google.com/notebooks/data_table.ipynb>data table notebook</a>'\n",
              "            + ' to learn more about interactive tables.';\n",
              "          element.innerHTML = '';\n",
              "          dataTable['output_type'] = 'display_data';\n",
              "          await google.colab.output.renderOutput(dataTable, element);\n",
              "          const docLink = document.createElement('div');\n",
              "          docLink.innerHTML = docLinkHtml;\n",
              "          element.appendChild(docLink);\n",
              "        }\n",
              "      </script>\n",
              "    </div>\n",
              "  </div>\n",
              "  "
            ]
          },
          "metadata": {},
          "execution_count": 27
        }
      ]
    },
    {
      "cell_type": "markdown",
      "source": [
        "Da mesma forma que a regressão linear, a clusterização trabalha bem com dados NUMÉRICOS. Diante disso, vamos ver os tipos dos dados do data frame."
      ],
      "metadata": {
        "id": "2Mfxjkyp8F83"
      }
    },
    {
      "cell_type": "code",
      "source": [
        "dataFrame.dtypes"
      ],
      "metadata": {
        "colab": {
          "base_uri": "https://localhost:8080/"
        },
        "id": "Fu-H3_S_8HF4",
        "outputId": "fb9419cb-2142-44e2-c060-9c4a15bebca0"
      },
      "execution_count": null,
      "outputs": [
        {
          "output_type": "execute_result",
          "data": {
            "text/plain": [
              "alturaSepala     float64\n",
              "larguraSepala    float64\n",
              "alturaPetala     float64\n",
              "larguraPetala    float64\n",
              "classe            object\n",
              "dtype: object"
            ]
          },
          "metadata": {},
          "execution_count": 28
        }
      ]
    },
    {
      "cell_type": "markdown",
      "source": [
        "Como proposto nos slides apresentados em sala, vamos testar a eficiência do K-means pedindo para o algoritmo gerar 3 clusters sem saber o tipo de cada flor. Depois iremos comparar os grupos gerados com os tipos reais das flores.\n",
        "Para o teste ocorrer efetivamente, vamos criar um novo data frame que será uma cópia do data frame orignial sem a coluna da classe da iris"
      ],
      "metadata": {
        "id": "XuZUg6-g8OYo"
      }
    },
    {
      "cell_type": "code",
      "source": [
        "dataFrameCluster = dataFrame.drop(columns=[\"classe\"])"
      ],
      "metadata": {
        "id": "RFVhfqDW8ry3"
      },
      "execution_count": null,
      "outputs": []
    },
    {
      "cell_type": "markdown",
      "source": [
        "Uma vez que o dataFrameCluster foi criado, vamos ver como ele ficou. Ele deve ser igual ao original, mas sem a coluna classe."
      ],
      "metadata": {
        "id": "RfrGJO6287Ws"
      }
    },
    {
      "cell_type": "code",
      "source": [
        "dataFrameCluster.head()"
      ],
      "metadata": {
        "colab": {
          "base_uri": "https://localhost:8080/",
          "height": 206
        },
        "id": "o4TcmA_e9KNG",
        "outputId": "1be756be-0ed0-46bd-aab2-f6f8566f83fa"
      },
      "execution_count": null,
      "outputs": [
        {
          "output_type": "execute_result",
          "data": {
            "text/plain": [
              "   alturaSepala  larguraSepala  alturaPetala  larguraPetala\n",
              "0           5.1            3.5           1.4            0.2\n",
              "1           4.9            3.0           1.4            0.2\n",
              "2           4.7            3.2           1.3            0.2\n",
              "3           4.6            3.1           1.5            0.2\n",
              "4           5.0            3.6           1.4            0.2"
            ],
            "text/html": [
              "\n",
              "  <div id=\"df-3138eff5-08c3-42ff-8acc-a39cd329ddd4\">\n",
              "    <div class=\"colab-df-container\">\n",
              "      <div>\n",
              "<style scoped>\n",
              "    .dataframe tbody tr th:only-of-type {\n",
              "        vertical-align: middle;\n",
              "    }\n",
              "\n",
              "    .dataframe tbody tr th {\n",
              "        vertical-align: top;\n",
              "    }\n",
              "\n",
              "    .dataframe thead th {\n",
              "        text-align: right;\n",
              "    }\n",
              "</style>\n",
              "<table border=\"1\" class=\"dataframe\">\n",
              "  <thead>\n",
              "    <tr style=\"text-align: right;\">\n",
              "      <th></th>\n",
              "      <th>alturaSepala</th>\n",
              "      <th>larguraSepala</th>\n",
              "      <th>alturaPetala</th>\n",
              "      <th>larguraPetala</th>\n",
              "    </tr>\n",
              "  </thead>\n",
              "  <tbody>\n",
              "    <tr>\n",
              "      <th>0</th>\n",
              "      <td>5.1</td>\n",
              "      <td>3.5</td>\n",
              "      <td>1.4</td>\n",
              "      <td>0.2</td>\n",
              "    </tr>\n",
              "    <tr>\n",
              "      <th>1</th>\n",
              "      <td>4.9</td>\n",
              "      <td>3.0</td>\n",
              "      <td>1.4</td>\n",
              "      <td>0.2</td>\n",
              "    </tr>\n",
              "    <tr>\n",
              "      <th>2</th>\n",
              "      <td>4.7</td>\n",
              "      <td>3.2</td>\n",
              "      <td>1.3</td>\n",
              "      <td>0.2</td>\n",
              "    </tr>\n",
              "    <tr>\n",
              "      <th>3</th>\n",
              "      <td>4.6</td>\n",
              "      <td>3.1</td>\n",
              "      <td>1.5</td>\n",
              "      <td>0.2</td>\n",
              "    </tr>\n",
              "    <tr>\n",
              "      <th>4</th>\n",
              "      <td>5.0</td>\n",
              "      <td>3.6</td>\n",
              "      <td>1.4</td>\n",
              "      <td>0.2</td>\n",
              "    </tr>\n",
              "  </tbody>\n",
              "</table>\n",
              "</div>\n",
              "      <button class=\"colab-df-convert\" onclick=\"convertToInteractive('df-3138eff5-08c3-42ff-8acc-a39cd329ddd4')\"\n",
              "              title=\"Convert this dataframe to an interactive table.\"\n",
              "              style=\"display:none;\">\n",
              "        \n",
              "  <svg xmlns=\"http://www.w3.org/2000/svg\" height=\"24px\"viewBox=\"0 0 24 24\"\n",
              "       width=\"24px\">\n",
              "    <path d=\"M0 0h24v24H0V0z\" fill=\"none\"/>\n",
              "    <path d=\"M18.56 5.44l.94 2.06.94-2.06 2.06-.94-2.06-.94-.94-2.06-.94 2.06-2.06.94zm-11 1L8.5 8.5l.94-2.06 2.06-.94-2.06-.94L8.5 2.5l-.94 2.06-2.06.94zm10 10l.94 2.06.94-2.06 2.06-.94-2.06-.94-.94-2.06-.94 2.06-2.06.94z\"/><path d=\"M17.41 7.96l-1.37-1.37c-.4-.4-.92-.59-1.43-.59-.52 0-1.04.2-1.43.59L10.3 9.45l-7.72 7.72c-.78.78-.78 2.05 0 2.83L4 21.41c.39.39.9.59 1.41.59.51 0 1.02-.2 1.41-.59l7.78-7.78 2.81-2.81c.8-.78.8-2.07 0-2.86zM5.41 20L4 18.59l7.72-7.72 1.47 1.35L5.41 20z\"/>\n",
              "  </svg>\n",
              "      </button>\n",
              "      \n",
              "  <style>\n",
              "    .colab-df-container {\n",
              "      display:flex;\n",
              "      flex-wrap:wrap;\n",
              "      gap: 12px;\n",
              "    }\n",
              "\n",
              "    .colab-df-convert {\n",
              "      background-color: #E8F0FE;\n",
              "      border: none;\n",
              "      border-radius: 50%;\n",
              "      cursor: pointer;\n",
              "      display: none;\n",
              "      fill: #1967D2;\n",
              "      height: 32px;\n",
              "      padding: 0 0 0 0;\n",
              "      width: 32px;\n",
              "    }\n",
              "\n",
              "    .colab-df-convert:hover {\n",
              "      background-color: #E2EBFA;\n",
              "      box-shadow: 0px 1px 2px rgba(60, 64, 67, 0.3), 0px 1px 3px 1px rgba(60, 64, 67, 0.15);\n",
              "      fill: #174EA6;\n",
              "    }\n",
              "\n",
              "    [theme=dark] .colab-df-convert {\n",
              "      background-color: #3B4455;\n",
              "      fill: #D2E3FC;\n",
              "    }\n",
              "\n",
              "    [theme=dark] .colab-df-convert:hover {\n",
              "      background-color: #434B5C;\n",
              "      box-shadow: 0px 1px 3px 1px rgba(0, 0, 0, 0.15);\n",
              "      filter: drop-shadow(0px 1px 2px rgba(0, 0, 0, 0.3));\n",
              "      fill: #FFFFFF;\n",
              "    }\n",
              "  </style>\n",
              "\n",
              "      <script>\n",
              "        const buttonEl =\n",
              "          document.querySelector('#df-3138eff5-08c3-42ff-8acc-a39cd329ddd4 button.colab-df-convert');\n",
              "        buttonEl.style.display =\n",
              "          google.colab.kernel.accessAllowed ? 'block' : 'none';\n",
              "\n",
              "        async function convertToInteractive(key) {\n",
              "          const element = document.querySelector('#df-3138eff5-08c3-42ff-8acc-a39cd329ddd4');\n",
              "          const dataTable =\n",
              "            await google.colab.kernel.invokeFunction('convertToInteractive',\n",
              "                                                     [key], {});\n",
              "          if (!dataTable) return;\n",
              "\n",
              "          const docLinkHtml = 'Like what you see? Visit the ' +\n",
              "            '<a target=\"_blank\" href=https://colab.research.google.com/notebooks/data_table.ipynb>data table notebook</a>'\n",
              "            + ' to learn more about interactive tables.';\n",
              "          element.innerHTML = '';\n",
              "          dataTable['output_type'] = 'display_data';\n",
              "          await google.colab.output.renderOutput(dataTable, element);\n",
              "          const docLink = document.createElement('div');\n",
              "          docLink.innerHTML = docLinkHtml;\n",
              "          element.appendChild(docLink);\n",
              "        }\n",
              "      </script>\n",
              "    </div>\n",
              "  </div>\n",
              "  "
            ]
          },
          "metadata": {},
          "execution_count": 30
        }
      ]
    },
    {
      "cell_type": "markdown",
      "source": [
        "Agora que o dataFrame foi criado, vamos partir para a clusterização propriamente dita. Para isso, a primeira coisa que devemos fazer importar o algoritmo que faz a clusterização. Como explicado durante a aula, o algoritmo mais popular para a aplicação de clusterização é o K-means. O SkLearn possui tal algoritmo."
      ],
      "metadata": {
        "id": "1CseslWF-Bil"
      }
    },
    {
      "cell_type": "code",
      "source": [
        "from sklearn.cluster import KMeans"
      ],
      "metadata": {
        "id": "R-g4bksV-phc"
      },
      "execution_count": null,
      "outputs": []
    },
    {
      "cell_type": "markdown",
      "source": [
        "Agora que o KMeans foi importado, vamos criar o objeto que fará a clusterização. No caso da  clusterização, ao criar o objeto, é necessário informar a quantidade de grupos que queremos que sejam gerados."
      ],
      "metadata": {
        "id": "USEg8-0r-u_b"
      }
    },
    {
      "cell_type": "code",
      "source": [
        "objCluster = KMeans(n_clusters=2)"
      ],
      "metadata": {
        "id": "8C6lzUjA_GUE"
      },
      "execution_count": null,
      "outputs": []
    },
    {
      "cell_type": "markdown",
      "source": [
        "Agora que o objeto foi criado e está pronto para fazer a clusterização efetuar o treinamento que irá gerar os grupos."
      ],
      "metadata": {
        "id": "Si27gXdjAGlR"
      }
    },
    {
      "cell_type": "code",
      "source": [
        "objCluster.fit(dataFrameCluster)"
      ],
      "metadata": {
        "colab": {
          "base_uri": "https://localhost:8080/"
        },
        "id": "-mR8ZrUHAajL",
        "outputId": "02a66cd4-8994-4328-c70d-23fed3b4e493"
      },
      "execution_count": null,
      "outputs": [
        {
          "output_type": "execute_result",
          "data": {
            "text/plain": [
              "KMeans(n_clusters=2)"
            ]
          },
          "metadata": {},
          "execution_count": 33
        }
      ]
    },
    {
      "cell_type": "markdown",
      "source": [
        "Uma vez que os três centroides foram gerados, vamos analisar o resultado."
      ],
      "metadata": {
        "id": "67ZD71IKAiwa"
      }
    },
    {
      "cell_type": "code",
      "source": [
        "arrayResultado = objCluster.fit_predict(dataFrameCluster)\n",
        "arrayResultado"
      ],
      "metadata": {
        "colab": {
          "base_uri": "https://localhost:8080/"
        },
        "id": "DaJXhU9rAtdt",
        "outputId": "589c0e75-bc63-4811-a366-abfd89987fd8"
      },
      "execution_count": null,
      "outputs": [
        {
          "output_type": "execute_result",
          "data": {
            "text/plain": [
              "array([1, 1, 1, 1, 1, 1, 1, 1, 1, 1, 1, 1, 1, 1, 1, 1, 1, 1, 1, 1, 1, 1,\n",
              "       1, 1, 1, 1, 1, 1, 1, 1, 1, 1, 1, 1, 1, 1, 1, 1, 1, 1, 1, 1, 1, 1,\n",
              "       1, 1, 1, 1, 1, 1, 0, 0, 0, 0, 0, 0, 0, 1, 0, 0, 0, 0, 0, 0, 0, 0,\n",
              "       0, 0, 0, 0, 0, 0, 0, 0, 0, 0, 0, 0, 0, 0, 0, 0, 0, 0, 0, 0, 0, 0,\n",
              "       0, 0, 0, 0, 0, 1, 0, 0, 0, 0, 1, 0, 0, 0, 0, 0, 0, 0, 0, 0, 0, 0,\n",
              "       0, 0, 0, 0, 0, 0, 0, 0, 0, 0, 0, 0, 0, 0, 0, 0, 0, 0, 0, 0, 0, 0,\n",
              "       0, 0, 0, 0, 0, 0, 0, 0, 0, 0, 0, 0, 0, 0, 0, 0, 0, 0], dtype=int32)"
            ]
          },
          "metadata": {},
          "execution_count": 34
        }
      ]
    },
    {
      "cell_type": "markdown",
      "source": [
        "Vamos criar um novo dataFrame com as colunas das áreas para vermos se o resultado melhora."
      ],
      "metadata": {
        "id": "N2Z3K3OMBpIl"
      }
    },
    {
      "cell_type": "code",
      "source": [
        "objCluster.cluster_centers_"
      ],
      "metadata": {
        "colab": {
          "base_uri": "https://localhost:8080/"
        },
        "id": "BInxMazzDLU-",
        "outputId": "e92bad2c-d8af-4612-8171-b31074712c87"
      },
      "execution_count": null,
      "outputs": [
        {
          "output_type": "execute_result",
          "data": {
            "text/plain": [
              "array([[6.30103093, 2.88659794, 4.95876289, 1.69587629],\n",
              "       [5.00566038, 3.36037736, 1.56226415, 0.28867925]])"
            ]
          },
          "metadata": {},
          "execution_count": 35
        }
      ]
    },
    {
      "cell_type": "markdown",
      "source": [
        "Uma vez que vimos os valores dos centroides, vamos ver o gráfico de posição dos centroides considerando altura x largura de petala e altura x largura de sepala."
      ],
      "metadata": {
        "id": "VV_xHoMPDndK"
      }
    },
    {
      "cell_type": "code",
      "source": [
        "import matplotlib.pyplot as plt\n",
        "plt.scatter(objCluster.cluster_centers_[:,0], objCluster.cluster_centers_[:,1], s=300, c=\"red\")\n",
        "plt.title(\"Comparacao altura x largura sepalas\")\n",
        "plt.xlabel(\"Altura da Sepala\")\n",
        "plt.ylabel(\"Largura da Sepala\")"
      ],
      "metadata": {
        "colab": {
          "base_uri": "https://localhost:8080/",
          "height": 312
        },
        "id": "ERBppKgaD8sS",
        "outputId": "436909de-9f40-41f9-cc0f-a06c1185ad3d"
      },
      "execution_count": null,
      "outputs": [
        {
          "output_type": "execute_result",
          "data": {
            "text/plain": [
              "Text(0, 0.5, 'Largura da Sepala')"
            ]
          },
          "metadata": {},
          "execution_count": 36
        },
        {
          "output_type": "display_data",
          "data": {
            "text/plain": [
              "<Figure size 432x288 with 1 Axes>"
            ],
            "image/png": "[encoded data removed]"
          },
          "metadata": {
            "needs_background": "light"
          }
        }
      ]
    },
    {
      "cell_type": "markdown",
      "source": [
        "Vamos gerar o mesmom gráfico para ver o gráfico para ver os centroides com relação à altura x largura de petala."
      ],
      "metadata": {
        "id": "A0cnnBnsEoOe"
      }
    },
    {
      "cell_type": "code",
      "source": [
        "import matplotlib.pyplot as plt\n",
        "plt.scatter(objCluster.cluster_centers_[:,2], objCluster.cluster_centers_[:,3], s=300, c=\"red\")\n",
        "plt.title(\"Comparacao altura x largura petalas\")\n",
        "plt.xlabel(\"Altura da Petala\")\n",
        "plt.ylabel(\"Largura da Petala\")"
      ],
      "metadata": {
        "colab": {
          "base_uri": "https://localhost:8080/",
          "height": 312
        },
        "id": "W1ZbOljRE9AC",
        "outputId": "f00e5cf9-48bf-4b36-8076-b437a8dc46c0"
      },
      "execution_count": null,
      "outputs": [
        {
          "output_type": "execute_result",
          "data": {
            "text/plain": [
              "Text(0, 0.5, 'Largura da Petala')"
            ]
          },
          "metadata": {},
          "execution_count": 37
        },
        {
          "output_type": "display_data",
          "data": {
            "text/plain": [
              "<Figure size 432x288 with 1 Axes>"
            ],
            "image/png": "[encoded data removed]"
          },
          "metadata": {
            "needs_background": "light"
          }
        }
      ]
    },
    {
      "cell_type": "code",
      "source": [
        "import matplotlib.pyplot as plt\n",
        "plt.scatter(dataFrameCluster.iloc[:,0], dataFrameCluster.iloc[:,1], c=objCluster.labels_)\n",
        "plt.scatter(objCluster.cluster_centers_[:,0], objCluster.cluster_centers_[:,1], s=300, c=\"red\")\n",
        "plt.title(\"Comparacao altura x largura sepalas\")\n",
        "plt.xlabel(\"Altura da Sepala\")\n",
        "plt.ylabel(\"Largura da Sepala\")"
      ],
      "metadata": {
        "colab": {
          "base_uri": "https://localhost:8080/",
          "height": 312
        },
        "id": "xfJtznPHLtxm",
        "outputId": "a24d9b23-db70-4165-b62e-730b11161f3f"
      },
      "execution_count": null,
      "outputs": [
        {
          "output_type": "execute_result",
          "data": {
            "text/plain": [
              "Text(0, 0.5, 'Largura da Sepala')"
            ]
          },
          "metadata": {},
          "execution_count": 38
        },
        {
          "output_type": "display_data",
          "data": {
            "text/plain": [
              "<Figure size 432x288 with 1 Axes>"
            ],
            "image/png": "[encoded data removed]"
          },
          "metadata": {
            "needs_background": "light"
          }
        }
      ]
    },
    {
      "cell_type": "code",
      "source": [
        "import matplotlib.pyplot as plt\n",
        "plt.scatter(objCluster.cluster_centers_[:,2], objCluster.cluster_centers_[:,3], s=300, c=\"red\")\n",
        "plt.scatter(dataFrameCluster.iloc[:,2], dataFrameCluster.iloc[:,3], c=objCluster.labels_)\n",
        "plt.title(\"Comparacao altura x largura petalas\")\n",
        "plt.xlabel(\"Altura da Petala\")\n",
        "plt.ylabel(\"Largura da Petala\")"
      ],
      "metadata": {
        "colab": {
          "base_uri": "https://localhost:8080/",
          "height": 312
        },
        "id": "ebSte_BVLyYO",
        "outputId": "3e58634f-19da-4e14-d7e2-c231ebb2063f"
      },
      "execution_count": null,
      "outputs": [
        {
          "output_type": "execute_result",
          "data": {
            "text/plain": [
              "Text(0, 0.5, 'Largura da Petala')"
            ]
          },
          "metadata": {},
          "execution_count": 39
        },
        {
          "output_type": "display_data",
          "data": {
            "text/plain": [
              "<Figure size 432x288 with 1 Axes>"
            ],
            "image/png": "[encoded data removed]"
          },
          "metadata": {
            "needs_background": "light"
          }
        }
      ]
    },
    {
      "cell_type": "markdown",
      "source": [
        "Normalmente, há a pergunta de um milhão de dólares: \"qual é o número ideal de clusters para o meu conjunto de dados?\" Lembre-se que os elementos dentro de um mesmo cluster devem ter similaridade e que os elementos de clusters distintos devem ter discrepância."
      ],
      "metadata": {
        "id": "z4GAPaeUMHV1"
      }
    },
    {
      "cell_type": "code",
      "source": [
        "variancia = []\n",
        "for i in range (1,11): # o loop será executado dez vezes, criando quantidades de clusters igual ao valor de i\n",
        "  objClusterElbow = KMeans(n_clusters=i) #configuração do objeto para gerar \"i\" clusters\n",
        "  objClusterElbow.fit(dataFrameCluster)\n",
        "  variancia.append(objClusterElbow.inertia_)\n",
        "\n",
        "variancia\n",
        "\n",
        "plt.plot(range(1,11), variancia)\n",
        "plt.title(\"Análise de variância Elbow\")\n",
        "plt.xlabel(\"Número de clusters\")\n",
        "plt.ylabel(\"Variância\")"
      ],
      "metadata": {
        "colab": {
          "base_uri": "https://localhost:8080/",
          "height": 312
        },
        "id": "mFhPFtnWM0t7",
        "outputId": "774554dc-1f9f-4157-abbf-70323df07c2b"
      },
      "execution_count": null,
      "outputs": [
        {
          "output_type": "execute_result",
          "data": {
            "text/plain": [
              "Text(0, 0.5, 'Variância')"
            ]
          },
          "metadata": {},
          "execution_count": 40
        },
        {
          "output_type": "display_data",
          "data": {
            "text/plain": [
              "<Figure size 432x288 with 1 Axes>"
            ],
            "image/png": "[encoded data removed]"
          },
          "metadata": {
            "needs_background": "light"
          }
        }
      ]
    }
  ]
}