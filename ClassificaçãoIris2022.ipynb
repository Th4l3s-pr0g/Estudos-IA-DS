{
  "nbformat": 4,
  "nbformat_minor": 0,
  "metadata": {
    "colab": {
      "name": "ClassificaçãoIris2022.ipynb",
      "provenance": [],
      "collapsed_sections": [],
      "authorship_tag": "ABX9TyN/luPVXAt+KQRBe4Nx4Li4",
      "include_colab_link": true
    },
    "kernelspec": {
      "name": "python3",
      "display_name": "Python 3"
    },
    "language_info": {
      "name": "python"
    }
  },
  "cells": [
    {
      "cell_type": "markdown",
      "metadata": {
        "id": "view-in-github",
        "colab_type": "text"
      },
      "source": [
        "<a href=\"https://colab.research.google.com/github/Th4l3s-pr0g/estudo-IA-CC/blob/main/Classifica%C3%A7%C3%A3oIris2022.ipynb\" target=\"_parent\"><img src=\"https://colab.research.google.com/assets/colab-badge.svg\" alt=\"Open In Colab\"/></a>"
      ]
    },
    {
      "cell_type": "markdown",
      "source": [
        "Vamos iniciar o desenvolvimento da árvore de decisão que classificará Iris.\n",
        "Para isso, vamos carregaer o arquivo texto iris.data para o Python. Vamos utilizar o Pandas."
      ],
      "metadata": {
        "id": "ES__KN_FybHg"
      }
    },
    {
      "cell_type": "code",
      "source": [
        "import pandas as pd\n",
        "nomeColunas = [\"alturaSepala\", \"larguraSepala\", \"alturaPetala\", \"larguraPetala\", \"classe\"]\n",
        "dataFrame = pd.read_csv(\"/content/iris.data\", names=nomeColunas)\n",
        "print(\"Quantidade de linhas:\", len(dataFrame))\n",
        "print(\"Quantidade de colunas:\", len(dataFrame.columns))"
      ],
      "metadata": {
        "colab": {
          "base_uri": "https://localhost:8080/"
        },
        "id": "xaQl27eAy5ZY",
        "outputId": "529c787c-0947-462f-9370-ece7570dd2fb"
      },
      "execution_count": null,
      "outputs": [
        {
          "output_type": "stream",
          "name": "stdout",
          "text": [
            "Quantidade de linhas: 150\n",
            "Quantidade de colunas: 5\n"
          ]
        }
      ]
    },
    {
      "cell_type": "markdown",
      "source": [
        "Uma vez que carregamos os dados do arquivo CSV para dataFrame, vamos ver como ficou o dataFrame."
      ],
      "metadata": {
        "id": "EtYdOe0j01rt"
      }
    },
    {
      "cell_type": "code",
      "source": [
        "dataFrame.head()\n",
        "#dataFrame.tail()"
      ],
      "metadata": {
        "colab": {
          "base_uri": "https://localhost:8080/",
          "height": 206
        },
        "id": "txeYm5bH0_td",
        "outputId": "d7a01c61-c7f3-4f0a-990a-c2b3bb6865d2"
      },
      "execution_count": null,
      "outputs": [
        {
          "output_type": "execute_result",
          "data": {
            "text/plain": [
              "   alturaSepala  larguraSepala  alturaPetala  larguraPetala       classe\n",
              "0           5.1            3.5           1.4            0.2  Iris-setosa\n",
              "1           4.9            3.0           1.4            0.2  Iris-setosa\n",
              "2           4.7            3.2           1.3            0.2  Iris-setosa\n",
              "3           4.6            3.1           1.5            0.2  Iris-setosa\n",
              "4           5.0            3.6           1.4            0.2  Iris-setosa"
            ],
            "text/html": [
              "\n",
              "  <div id=\"df-f1a80823-34d7-4e26-b6f3-94521e81787e\">\n",
              "    <div class=\"colab-df-container\">\n",
              "      <div>\n",
              "<style scoped>\n",
              "    .dataframe tbody tr th:only-of-type {\n",
              "        vertical-align: middle;\n",
              "    }\n",
              "\n",
              "    .dataframe tbody tr th {\n",
              "        vertical-align: top;\n",
              "    }\n",
              "\n",
              "    .dataframe thead th {\n",
              "        text-align: right;\n",
              "    }\n",
              "</style>\n",
              "<table border=\"1\" class=\"dataframe\">\n",
              "  <thead>\n",
              "    <tr style=\"text-align: right;\">\n",
              "      <th></th>\n",
              "      <th>alturaSepala</th>\n",
              "      <th>larguraSepala</th>\n",
              "      <th>alturaPetala</th>\n",
              "      <th>larguraPetala</th>\n",
              "      <th>classe</th>\n",
              "    </tr>\n",
              "  </thead>\n",
              "  <tbody>\n",
              "    <tr>\n",
              "      <th>0</th>\n",
              "      <td>5.1</td>\n",
              "      <td>3.5</td>\n",
              "      <td>1.4</td>\n",
              "      <td>0.2</td>\n",
              "      <td>Iris-setosa</td>\n",
              "    </tr>\n",
              "    <tr>\n",
              "      <th>1</th>\n",
              "      <td>4.9</td>\n",
              "      <td>3.0</td>\n",
              "      <td>1.4</td>\n",
              "      <td>0.2</td>\n",
              "      <td>Iris-setosa</td>\n",
              "    </tr>\n",
              "    <tr>\n",
              "      <th>2</th>\n",
              "      <td>4.7</td>\n",
              "      <td>3.2</td>\n",
              "      <td>1.3</td>\n",
              "      <td>0.2</td>\n",
              "      <td>Iris-setosa</td>\n",
              "    </tr>\n",
              "    <tr>\n",
              "      <th>3</th>\n",
              "      <td>4.6</td>\n",
              "      <td>3.1</td>\n",
              "      <td>1.5</td>\n",
              "      <td>0.2</td>\n",
              "      <td>Iris-setosa</td>\n",
              "    </tr>\n",
              "    <tr>\n",
              "      <th>4</th>\n",
              "      <td>5.0</td>\n",
              "      <td>3.6</td>\n",
              "      <td>1.4</td>\n",
              "      <td>0.2</td>\n",
              "      <td>Iris-setosa</td>\n",
              "    </tr>\n",
              "  </tbody>\n",
              "</table>\n",
              "</div>\n",
              "      <button class=\"colab-df-convert\" onclick=\"convertToInteractive('df-f1a80823-34d7-4e26-b6f3-94521e81787e')\"\n",
              "              title=\"Convert this dataframe to an interactive table.\"\n",
              "              style=\"display:none;\">\n",
              "        \n",
              "  <svg xmlns=\"http://www.w3.org/2000/svg\" height=\"24px\"viewBox=\"0 0 24 24\"\n",
              "       width=\"24px\">\n",
              "    <path d=\"M0 0h24v24H0V0z\" fill=\"none\"/>\n",
              "    <path d=\"M18.56 5.44l.94 2.06.94-2.06 2.06-.94-2.06-.94-.94-2.06-.94 2.06-2.06.94zm-11 1L8.5 8.5l.94-2.06 2.06-.94-2.06-.94L8.5 2.5l-.94 2.06-2.06.94zm10 10l.94 2.06.94-2.06 2.06-.94-2.06-.94-.94-2.06-.94 2.06-2.06.94z\"/><path d=\"M17.41 7.96l-1.37-1.37c-.4-.4-.92-.59-1.43-.59-.52 0-1.04.2-1.43.59L10.3 9.45l-7.72 7.72c-.78.78-.78 2.05 0 2.83L4 21.41c.39.39.9.59 1.41.59.51 0 1.02-.2 1.41-.59l7.78-7.78 2.81-2.81c.8-.78.8-2.07 0-2.86zM5.41 20L4 18.59l7.72-7.72 1.47 1.35L5.41 20z\"/>\n",
              "  </svg>\n",
              "      </button>\n",
              "      \n",
              "  <style>\n",
              "    .colab-df-container {\n",
              "      display:flex;\n",
              "      flex-wrap:wrap;\n",
              "      gap: 12px;\n",
              "    }\n",
              "\n",
              "    .colab-df-convert {\n",
              "      background-color: #E8F0FE;\n",
              "      border: none;\n",
              "      border-radius: 50%;\n",
              "      cursor: pointer;\n",
              "      display: none;\n",
              "      fill: #1967D2;\n",
              "      height: 32px;\n",
              "      padding: 0 0 0 0;\n",
              "      width: 32px;\n",
              "    }\n",
              "\n",
              "    .colab-df-convert:hover {\n",
              "      background-color: #E2EBFA;\n",
              "      box-shadow: 0px 1px 2px rgba(60, 64, 67, 0.3), 0px 1px 3px 1px rgba(60, 64, 67, 0.15);\n",
              "      fill: #174EA6;\n",
              "    }\n",
              "\n",
              "    [theme=dark] .colab-df-convert {\n",
              "      background-color: #3B4455;\n",
              "      fill: #D2E3FC;\n",
              "    }\n",
              "\n",
              "    [theme=dark] .colab-df-convert:hover {\n",
              "      background-color: #434B5C;\n",
              "      box-shadow: 0px 1px 3px 1px rgba(0, 0, 0, 0.15);\n",
              "      filter: drop-shadow(0px 1px 2px rgba(0, 0, 0, 0.3));\n",
              "      fill: #FFFFFF;\n",
              "    }\n",
              "  </style>\n",
              "\n",
              "      <script>\n",
              "        const buttonEl =\n",
              "          document.querySelector('#df-f1a80823-34d7-4e26-b6f3-94521e81787e button.colab-df-convert');\n",
              "        buttonEl.style.display =\n",
              "          google.colab.kernel.accessAllowed ? 'block' : 'none';\n",
              "\n",
              "        async function convertToInteractive(key) {\n",
              "          const element = document.querySelector('#df-f1a80823-34d7-4e26-b6f3-94521e81787e');\n",
              "          const dataTable =\n",
              "            await google.colab.kernel.invokeFunction('convertToInteractive',\n",
              "                                                     [key], {});\n",
              "          if (!dataTable) return;\n",
              "\n",
              "          const docLinkHtml = 'Like what you see? Visit the ' +\n",
              "            '<a target=\"_blank\" href=https://colab.research.google.com/notebooks/data_table.ipynb>data table notebook</a>'\n",
              "            + ' to learn more about interactive tables.';\n",
              "          element.innerHTML = '';\n",
              "          dataTable['output_type'] = 'display_data';\n",
              "          await google.colab.output.renderOutput(dataTable, element);\n",
              "          const docLink = document.createElement('div');\n",
              "          docLink.innerHTML = docLinkHtml;\n",
              "          element.appendChild(docLink);\n",
              "        }\n",
              "      </script>\n",
              "    </div>\n",
              "  </div>\n",
              "  "
            ]
          },
          "metadata": {},
          "execution_count": 75
        }
      ]
    },
    {
      "cell_type": "markdown",
      "source": [
        "Vamos explorar um pouco mais do Pandas. Vamos pedir para o pandas momstrar quantos registros existem para cada tipo de Iris."
      ],
      "metadata": {
        "id": "HwIA8gCz1pa8"
      }
    },
    {
      "cell_type": "code",
      "source": [
        "dataFrame[\"classe\"].value_counts()"
      ],
      "metadata": {
        "colab": {
          "base_uri": "https://localhost:8080/"
        },
        "id": "XumKMit211n4",
        "outputId": "1c54423c-6437-4700-9e72-aa6333c2e8ad"
      },
      "execution_count": null,
      "outputs": [
        {
          "output_type": "execute_result",
          "data": {
            "text/plain": [
              "Iris-setosa        50\n",
              "Iris-versicolor    50\n",
              "Iris-virginica     50\n",
              "Name: classe, dtype: int64"
            ]
          },
          "metadata": {},
          "execution_count": 76
        }
      ]
    },
    {
      "cell_type": "markdown",
      "source": [
        "Continuando o estudo para ver levemente o potencial do Pandas, vamos pedir para ele nos mostrar o resultado acima em gráfico."
      ],
      "metadata": {
        "id": "76wNEFhW2SkT"
      }
    },
    {
      "cell_type": "code",
      "source": [
        "dataFrame[\"classe\"].value_counts().plot(kind=\"pie\")"
      ],
      "metadata": {
        "colab": {
          "base_uri": "https://localhost:8080/",
          "height": 266
        },
        "id": "lJ2_MfVs2eV9",
        "outputId": "2796f656-2799-4ddc-e2ba-e63e767c4a0a"
      },
      "execution_count": null,
      "outputs": [
        {
          "output_type": "execute_result",
          "data": {
            "text/plain": [
              "<matplotlib.axes._subplots.AxesSubplot at 0x7f732ae2c2d0>"
            ]
          },
          "metadata": {},
          "execution_count": 77
        },
        {
          "output_type": "display_data",
          "data": {
            "text/plain": [
              "<Figure size 432x288 with 1 Axes>"
            ],
            "image/png": "[encoded data removed]"
          },
          "metadata": {}
        }
      ]
    },
    {
      "cell_type": "markdown",
      "source": [
        "Vamos continuar estudando o potencial do Pandas. Para isso, vamos utilizar funções que analisam valores numéricos. Veremos o máximo, o mínimo e a média."
      ],
      "metadata": {
        "id": "6fkAUiDK4Zxm"
      }
    },
    {
      "cell_type": "code",
      "source": [
        "print(\"Menor valor da coluna alturaSepala:\", dataFrame[\"alturaSepala\"].min())\n",
        "print(\"Maior valor da coluna alturaSepala:\", dataFrame[\"alturaSepala\"].max())\n",
        "print(\"A altura média das sépalas é:\", dataFrame[\"alturaSepala\"].mean())"
      ],
      "metadata": {
        "colab": {
          "base_uri": "https://localhost:8080/"
        },
        "id": "GjP0KkDn4sRL",
        "outputId": "1287f166-ab4c-4b76-8630-56b4a07668c0"
      },
      "execution_count": null,
      "outputs": [
        {
          "output_type": "stream",
          "name": "stdout",
          "text": [
            "Menor valor da coluna alturaSepala: 4.3\n",
            "Maior valor da coluna alturaSepala: 7.9\n",
            "A altura média das sépalas é: 5.843333333333335\n"
          ]
        }
      ]
    },
    {
      "cell_type": "markdown",
      "source": [
        "Vamos criar duas colunas novas a partir da combinação de colunas existentes. No caso, vamos criar as colunas \"areaSepala\" e \"areaPetala\"."
      ],
      "metadata": {
        "id": "IbCMfEKF5yIv"
      }
    },
    {
      "cell_type": "code",
      "source": [
        "dataFrame[\"areaSepala\"] = dataFrame[\"alturaSepala\"] * dataFrame[\"larguraSepala\"]\n",
        "dataFrame[\"areaPetala\"] = dataFrame[\"alturaPetala\"] * dataFrame[\"larguraPetala\"]\n",
        "dataFrame.head()"
      ],
      "metadata": {
        "colab": {
          "base_uri": "https://localhost:8080/",
          "height": 206
        },
        "id": "dZn79vax6CMK",
        "outputId": "cab63407-af2a-4442-d69c-b5ea8c8eb4c4"
      },
      "execution_count": null,
      "outputs": [
        {
          "output_type": "execute_result",
          "data": {
            "text/plain": [
              "   alturaSepala  larguraSepala  alturaPetala  larguraPetala       classe  \\\n",
              "0           5.1            3.5           1.4            0.2  Iris-setosa   \n",
              "1           4.9            3.0           1.4            0.2  Iris-setosa   \n",
              "2           4.7            3.2           1.3            0.2  Iris-setosa   \n",
              "3           4.6            3.1           1.5            0.2  Iris-setosa   \n",
              "4           5.0            3.6           1.4            0.2  Iris-setosa   \n",
              "\n",
              "   areaSepala  areaPetala  \n",
              "0       17.85        0.28  \n",
              "1       14.70        0.28  \n",
              "2       15.04        0.26  \n",
              "3       14.26        0.30  \n",
              "4       18.00        0.28  "
            ],
            "text/html": [
              "\n",
              "  <div id=\"df-9028bc45-2648-4c6d-9b93-69a6bfed3263\">\n",
              "    <div class=\"colab-df-container\">\n",
              "      <div>\n",
              "<style scoped>\n",
              "    .dataframe tbody tr th:only-of-type {\n",
              "        vertical-align: middle;\n",
              "    }\n",
              "\n",
              "    .dataframe tbody tr th {\n",
              "        vertical-align: top;\n",
              "    }\n",
              "\n",
              "    .dataframe thead th {\n",
              "        text-align: right;\n",
              "    }\n",
              "</style>\n",
              "<table border=\"1\" class=\"dataframe\">\n",
              "  <thead>\n",
              "    <tr style=\"text-align: right;\">\n",
              "      <th></th>\n",
              "      <th>alturaSepala</th>\n",
              "      <th>larguraSepala</th>\n",
              "      <th>alturaPetala</th>\n",
              "      <th>larguraPetala</th>\n",
              "      <th>classe</th>\n",
              "      <th>areaSepala</th>\n",
              "      <th>areaPetala</th>\n",
              "    </tr>\n",
              "  </thead>\n",
              "  <tbody>\n",
              "    <tr>\n",
              "      <th>0</th>\n",
              "      <td>5.1</td>\n",
              "      <td>3.5</td>\n",
              "      <td>1.4</td>\n",
              "      <td>0.2</td>\n",
              "      <td>Iris-setosa</td>\n",
              "      <td>17.85</td>\n",
              "      <td>0.28</td>\n",
              "    </tr>\n",
              "    <tr>\n",
              "      <th>1</th>\n",
              "      <td>4.9</td>\n",
              "      <td>3.0</td>\n",
              "      <td>1.4</td>\n",
              "      <td>0.2</td>\n",
              "      <td>Iris-setosa</td>\n",
              "      <td>14.70</td>\n",
              "      <td>0.28</td>\n",
              "    </tr>\n",
              "    <tr>\n",
              "      <th>2</th>\n",
              "      <td>4.7</td>\n",
              "      <td>3.2</td>\n",
              "      <td>1.3</td>\n",
              "      <td>0.2</td>\n",
              "      <td>Iris-setosa</td>\n",
              "      <td>15.04</td>\n",
              "      <td>0.26</td>\n",
              "    </tr>\n",
              "    <tr>\n",
              "      <th>3</th>\n",
              "      <td>4.6</td>\n",
              "      <td>3.1</td>\n",
              "      <td>1.5</td>\n",
              "      <td>0.2</td>\n",
              "      <td>Iris-setosa</td>\n",
              "      <td>14.26</td>\n",
              "      <td>0.30</td>\n",
              "    </tr>\n",
              "    <tr>\n",
              "      <th>4</th>\n",
              "      <td>5.0</td>\n",
              "      <td>3.6</td>\n",
              "      <td>1.4</td>\n",
              "      <td>0.2</td>\n",
              "      <td>Iris-setosa</td>\n",
              "      <td>18.00</td>\n",
              "      <td>0.28</td>\n",
              "    </tr>\n",
              "  </tbody>\n",
              "</table>\n",
              "</div>\n",
              "      <button class=\"colab-df-convert\" onclick=\"convertToInteractive('df-9028bc45-2648-4c6d-9b93-69a6bfed3263')\"\n",
              "              title=\"Convert this dataframe to an interactive table.\"\n",
              "              style=\"display:none;\">\n",
              "        \n",
              "  <svg xmlns=\"http://www.w3.org/2000/svg\" height=\"24px\"viewBox=\"0 0 24 24\"\n",
              "       width=\"24px\">\n",
              "    <path d=\"M0 0h24v24H0V0z\" fill=\"none\"/>\n",
              "    <path d=\"M18.56 5.44l.94 2.06.94-2.06 2.06-.94-2.06-.94-.94-2.06-.94 2.06-2.06.94zm-11 1L8.5 8.5l.94-2.06 2.06-.94-2.06-.94L8.5 2.5l-.94 2.06-2.06.94zm10 10l.94 2.06.94-2.06 2.06-.94-2.06-.94-.94-2.06-.94 2.06-2.06.94z\"/><path d=\"M17.41 7.96l-1.37-1.37c-.4-.4-.92-.59-1.43-.59-.52 0-1.04.2-1.43.59L10.3 9.45l-7.72 7.72c-.78.78-.78 2.05 0 2.83L4 21.41c.39.39.9.59 1.41.59.51 0 1.02-.2 1.41-.59l7.78-7.78 2.81-2.81c.8-.78.8-2.07 0-2.86zM5.41 20L4 18.59l7.72-7.72 1.47 1.35L5.41 20z\"/>\n",
              "  </svg>\n",
              "      </button>\n",
              "      \n",
              "  <style>\n",
              "    .colab-df-container {\n",
              "      display:flex;\n",
              "      flex-wrap:wrap;\n",
              "      gap: 12px;\n",
              "    }\n",
              "\n",
              "    .colab-df-convert {\n",
              "      background-color: #E8F0FE;\n",
              "      border: none;\n",
              "      border-radius: 50%;\n",
              "      cursor: pointer;\n",
              "      display: none;\n",
              "      fill: #1967D2;\n",
              "      height: 32px;\n",
              "      padding: 0 0 0 0;\n",
              "      width: 32px;\n",
              "    }\n",
              "\n",
              "    .colab-df-convert:hover {\n",
              "      background-color: #E2EBFA;\n",
              "      box-shadow: 0px 1px 2px rgba(60, 64, 67, 0.3), 0px 1px 3px 1px rgba(60, 64, 67, 0.15);\n",
              "      fill: #174EA6;\n",
              "    }\n",
              "\n",
              "    [theme=dark] .colab-df-convert {\n",
              "      background-color: #3B4455;\n",
              "      fill: #D2E3FC;\n",
              "    }\n",
              "\n",
              "    [theme=dark] .colab-df-convert:hover {\n",
              "      background-color: #434B5C;\n",
              "      box-shadow: 0px 1px 3px 1px rgba(0, 0, 0, 0.15);\n",
              "      filter: drop-shadow(0px 1px 2px rgba(0, 0, 0, 0.3));\n",
              "      fill: #FFFFFF;\n",
              "    }\n",
              "  </style>\n",
              "\n",
              "      <script>\n",
              "        const buttonEl =\n",
              "          document.querySelector('#df-9028bc45-2648-4c6d-9b93-69a6bfed3263 button.colab-df-convert');\n",
              "        buttonEl.style.display =\n",
              "          google.colab.kernel.accessAllowed ? 'block' : 'none';\n",
              "\n",
              "        async function convertToInteractive(key) {\n",
              "          const element = document.querySelector('#df-9028bc45-2648-4c6d-9b93-69a6bfed3263');\n",
              "          const dataTable =\n",
              "            await google.colab.kernel.invokeFunction('convertToInteractive',\n",
              "                                                     [key], {});\n",
              "          if (!dataTable) return;\n",
              "\n",
              "          const docLinkHtml = 'Like what you see? Visit the ' +\n",
              "            '<a target=\"_blank\" href=https://colab.research.google.com/notebooks/data_table.ipynb>data table notebook</a>'\n",
              "            + ' to learn more about interactive tables.';\n",
              "          element.innerHTML = '';\n",
              "          dataTable['output_type'] = 'display_data';\n",
              "          await google.colab.output.renderOutput(dataTable, element);\n",
              "          const docLink = document.createElement('div');\n",
              "          docLink.innerHTML = docLinkHtml;\n",
              "          element.appendChild(docLink);\n",
              "        }\n",
              "      </script>\n",
              "    </div>\n",
              "  </div>\n",
              "  "
            ]
          },
          "metadata": {},
          "execution_count": 79
        }
      ]
    },
    {
      "cell_type": "markdown",
      "source": [
        "Até aqui exploramos os dados com o Pandas. Agora vamos iniciar a aplicação de conceitos típicos de IA. Para isso vamos separar as variáveis INDEPENDENTES da DEPENDENTE."
      ],
      "metadata": {
        "id": "0kRX2ISL61UG"
      }
    },
    {
      "cell_type": "code",
      "source": [
        "variaveisIndependentes = dataFrame.columns.difference([\"classe\"], sort=False)\n",
        "#variaveisIndependentes\n",
        "X = dataFrame[variaveisIndependentes].values\n",
        "y = dataFrame[\"classe\"]\n",
        "y"
      ],
      "metadata": {
        "colab": {
          "base_uri": "https://localhost:8080/"
        },
        "id": "l3Gf6TnPCx4y",
        "outputId": "2920a3a4-8ea2-4e75-e32e-344f3bcae79c"
      },
      "execution_count": null,
      "outputs": [
        {
          "output_type": "execute_result",
          "data": {
            "text/plain": [
              "0         Iris-setosa\n",
              "1         Iris-setosa\n",
              "2         Iris-setosa\n",
              "3         Iris-setosa\n",
              "4         Iris-setosa\n",
              "            ...      \n",
              "145    Iris-virginica\n",
              "146    Iris-virginica\n",
              "147    Iris-virginica\n",
              "148    Iris-virginica\n",
              "149    Iris-virginica\n",
              "Name: classe, Length: 150, dtype: object"
            ]
          },
          "metadata": {},
          "execution_count": 80
        }
      ]
    },
    {
      "cell_type": "markdown",
      "source": [
        "Uma vez que separamos as variáveis independentes da dependente, vamos iniciar a \"magia\". O primeiro é importar a biblioteca que contempla os algoritmos de IA."
      ],
      "metadata": {
        "id": "TvHSjkkSDxZu"
      }
    },
    {
      "cell_type": "code",
      "source": [
        "from sklearn.tree import DecisionTreeClassifier"
      ],
      "metadata": {
        "id": "G22xMbk-EEDo"
      },
      "execution_count": null,
      "outputs": []
    },
    {
      "cell_type": "markdown",
      "source": [
        "Uma vez que o componente que construirá a árvore foi importado, vamos criar um objeto que ficará responsável pela criação da árvore."
      ],
      "metadata": {
        "id": "2uuhW03aE_Je"
      }
    },
    {
      "cell_type": "code",
      "source": [
        "objClassificador = DecisionTreeClassifier(random_state=10, criterion=\"gini\", max_depth=2)"
      ],
      "metadata": {
        "id": "igHcc2D6FPvC"
      },
      "execution_count": null,
      "outputs": []
    },
    {
      "cell_type": "markdown",
      "source": [
        "Uma vez que o objeto que construirá a arvore de decisão foi criado, vamos partir para o treinamento (geração da árvore).\n",
        "No sklearn, os treinamentos ocorrem, normalmente, por meio da chamada da função fit()."
      ],
      "metadata": {
        "id": "yVEhyy-XG5FE"
      }
    },
    {
      "cell_type": "code",
      "source": [
        "objClassificador.fit(X,y)\n"
      ],
      "metadata": {
        "colab": {
          "base_uri": "https://localhost:8080/"
        },
        "id": "qZcuxdl-HZA3",
        "outputId": "de305d90-323c-4148-cb48-8989ed719203"
      },
      "execution_count": null,
      "outputs": [
        {
          "output_type": "execute_result",
          "data": {
            "text/plain": [
              "DecisionTreeClassifier(max_depth=2, random_state=10)"
            ]
          },
          "metadata": {},
          "execution_count": 83
        }
      ]
    },
    {
      "cell_type": "markdown",
      "source": [
        "Agora que a árvore foi gerada, vamos ver como ficou."
      ],
      "metadata": {
        "id": "UKpsx-KqH6K8"
      }
    },
    {
      "cell_type": "code",
      "source": [
        "from IPython.display import Image  \n",
        "from sklearn import tree\n",
        "import pydotplus\n",
        "\n",
        "# Create DOT data\n",
        "dot_data = tree.export_graphviz(objClassificador, out_file=None, \n",
        "                                feature_names=variaveisIndependentes,  \n",
        "                                class_names=dataFrame.classe.unique())\n",
        "\n",
        "# Draw graph\n",
        "graph = pydotplus.graph_from_dot_data(dot_data)  \n",
        "\n",
        "# Show graph\n",
        "Image(graph.create_png())"
      ],
      "metadata": {
        "colab": {
          "base_uri": "https://localhost:8080/",
          "height": 435
        },
        "id": "OSrcBSL1H99Z",
        "outputId": "7bed952d-4711-436e-f0dd-699d6fe0e343"
      },
      "execution_count": null,
      "outputs": [
        {
          "output_type": "execute_result",
          "data": {
            "text/plain": [
              "<IPython.core.display.Image object>"
            ],
            "image/png": "[encoded data removed]"
          },
          "metadata": {},
          "execution_count": 84
        }
      ]
    },
    {
      "cell_type": "markdown",
      "source": [
        "Uma vez que a árvore de decisão foi ncriada, vamos utilizá-la para previsão de Iris com medidas que ela nunca viu anteriormente."
      ],
      "metadata": {
        "id": "l_YVUEA6s_L8"
      }
    },
    {
      "cell_type": "code",
      "source": [
        "iris1 = [5.1, 3.5, 1.4, 0.2, 17.85, 0.28] #setosa\n",
        "iris2 = [7.0, 3.2, 4.7, 1.4, 22.4, 6.58] #versicolor\n",
        "iris3 = [7.2, 3.6, 6.1, 2.5, 25.95, 15.25] #virginica\n",
        "iris4 = [5.0, 2.4, 1.8, 0.2, 12.0, 0.36] #?????\n",
        "conjuntoIris = pd.DataFrame([iris1, iris2, iris3, iris4], columns = variaveisIndependentes)\n",
        "#conjuntoIris\n",
        "objClassificador.predict(conjuntoIris)"
      ],
      "metadata": {
        "colab": {
          "base_uri": "https://localhost:8080/"
        },
        "id": "o8XEqGVbtOoQ",
        "outputId": "27b0729a-b68e-4ec9-eb23-5bc6c5989697"
      },
      "execution_count": null,
      "outputs": [
        {
          "output_type": "stream",
          "name": "stderr",
          "text": [
            "/usr/local/lib/python3.7/dist-packages/sklearn/base.py:444: UserWarning: X has feature names, but DecisionTreeClassifier was fitted without feature names\n",
            "  f\"X has feature names, but {self.__class__.__name__} was fitted without\"\n"
          ]
        },
        {
          "output_type": "execute_result",
          "data": {
            "text/plain": [
              "array(['Iris-setosa', 'Iris-versicolor', 'Iris-virginica', 'Iris-setosa'],\n",
              "      dtype=object)"
            ]
          },
          "metadata": {},
          "execution_count": 85
        }
      ]
    },
    {
      "cell_type": "markdown",
      "source": [
        "Até o momento utilizamos TODOS os 150 registros de Iris para o treinamento. No entanto, para evitar overfitting, vamos separar 10% dos registros para testar o modelo após o treinamento. O sklearn oferece um componente que faz essa separação, é o train_test_split."
      ],
      "metadata": {
        "id": "wima9A8jyqNf"
      }
    },
    {
      "cell_type": "code",
      "source": [
        "from sklearn.model_selection import train_test_split\n",
        "X_train, X_test, y_train, y_test = train_test_split(X, y, test_size=0.15)\n",
        "print(\"Quantidade de registros separados para treinamento:\", len(X_train))\n",
        "print(\"Quantidade de registros separados para teste:\", len(X_test))"
      ],
      "metadata": {
        "colab": {
          "base_uri": "https://localhost:8080/"
        },
        "id": "1FR3YeCNzLrM",
        "outputId": "4bc770fc-9eba-4f9a-90ac-98de3a750495"
      },
      "execution_count": null,
      "outputs": [
        {
          "output_type": "stream",
          "name": "stdout",
          "text": [
            "Quantidade de registros separados para treinamento: 127\n",
            "Quantidade de registros separados para teste: 23\n"
          ]
        }
      ]
    },
    {
      "cell_type": "markdown",
      "source": [
        "Agora que estamos ficando Jedis na IA, vamos utilizar os registros de treinamento para treinar o modelo. Para isso, utilizaremos os valores de X_train e y_train."
      ],
      "metadata": {
        "id": "l8m-utVf1Dgv"
      }
    },
    {
      "cell_type": "code",
      "source": [
        "from sklearn.tree import DecisionTreeClassifier as dtc\n",
        "objClassificador2 = dtc(criterion=\"entropy\", max_depth=2)\n",
        "objClassificador2.fit(X_train, y_train)"
      ],
      "metadata": {
        "colab": {
          "base_uri": "https://localhost:8080/"
        },
        "id": "Z2040d9n1W8n",
        "outputId": "d4446f9c-d834-4efc-8dd0-d18cd5639960"
      },
      "execution_count": null,
      "outputs": [
        {
          "output_type": "execute_result",
          "data": {
            "text/plain": [
              "DecisionTreeClassifier(criterion='entropy', max_depth=2)"
            ]
          },
          "metadata": {},
          "execution_count": 87
        }
      ]
    },
    {
      "cell_type": "markdown",
      "source": [
        "Vamos ver como ficou a árvore gerada apenas com os dados de treinamento."
      ],
      "metadata": {
        "id": "iUlfF5r22Ujw"
      }
    },
    {
      "cell_type": "code",
      "source": [
        "from IPython.display import Image  \n",
        "from sklearn import tree\n",
        "import pydotplus\n",
        "\n",
        "# Create DOT data\n",
        "dot_data = tree.export_graphviz(objClassificador2, out_file=None, \n",
        "                                feature_names=variaveisIndependentes,  \n",
        "                                class_names=dataFrame.classe.unique())\n",
        "\n",
        "# Draw graph\n",
        "graph = pydotplus.graph_from_dot_data(dot_data)  \n",
        "\n",
        "# Show graph\n",
        "Image(graph.create_png())"
      ],
      "metadata": {
        "colab": {
          "base_uri": "https://localhost:8080/",
          "height": 435
        },
        "id": "smSV3zQI2VU_",
        "outputId": "c7d81fc4-1bbf-4208-cba4-d6ecf6eef631"
      },
      "execution_count": null,
      "outputs": [
        {
          "output_type": "execute_result",
          "data": {
            "text/plain": [
              "<IPython.core.display.Image object>"
            ],
            "image/png": "[encoded data removed]"
          },
          "metadata": {},
          "execution_count": 88
        }
      ]
    },
    {
      "cell_type": "markdown",
      "source": [
        "Agora que a árvore foi gerada com os dados de treinamento, vamos ver a sua performance ao avaliar os dados separados para teste."
      ],
      "metadata": {
        "id": "i3xG4wZP27N2"
      }
    },
    {
      "cell_type": "code",
      "source": [
        "#print(X_test)\n",
        "#print(y_test)\n",
        "from sklearn.metrics import accuracy_score\n",
        "y_pred = objClassificador2.predict(X_test)\n",
        "precisao = accuracy_score(y_test,y_pred)\n",
        "print(\"A acurácia do modelo foi:\", precisao)"
      ],
      "metadata": {
        "colab": {
          "base_uri": "https://localhost:8080/"
        },
        "id": "zmk2dlCB3SEP",
        "outputId": "bccaa1f3-ba65-4252-8528-79769a5e875b"
      },
      "execution_count": null,
      "outputs": [
        {
          "output_type": "stream",
          "name": "stdout",
          "text": [
            "A acurácia do modelo foi: 0.9565217391304348\n"
          ]
        }
      ]
    }
  ]
}